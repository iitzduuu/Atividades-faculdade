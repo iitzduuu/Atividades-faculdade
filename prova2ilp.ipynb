{
  "nbformat": 4,
  "nbformat_minor": 0,
  "metadata": {
    "colab": {
      "provenance": [],
      "authorship_tag": "ABX9TyPE4znCNPoa+5Dl8mk/uu25",
      "include_colab_link": true
    },
    "kernelspec": {
      "name": "python3",
      "display_name": "Python 3"
    },
    "language_info": {
      "name": "python"
    }
  },
  "cells": [
    {
      "cell_type": "markdown",
      "metadata": {
        "id": "view-in-github",
        "colab_type": "text"
      },
      "source": [
        "<a href=\"https://colab.research.google.com/github/iitzduuu/Atividades-faculdade/blob/main/prova2ilp.ipynb\" target=\"_parent\"><img src=\"https://colab.research.google.com/assets/colab-badge.svg\" alt=\"Open In Colab\"/></a>"
      ]
    },
    {
      "cell_type": "code",
      "execution_count": null,
      "metadata": {
        "colab": {
          "base_uri": "https://localhost:8080/"
        },
        "id": "iGLUJmTI0KIj",
        "outputId": "fe4671f2-4390-4bdf-e107-ed26ad68ac10"
      },
      "outputs": [
        {
          "output_type": "stream",
          "name": "stdout",
          "text": [
            "3\n",
            "2 10.99\n",
            "2 5.50\n",
            "1 15.75\n",
            "48.73\n"
          ]
        }
      ],
      "source": [
        "\n",
        "N = int(input())\n",
        "valor_total = 0.0\n",
        "for _ in range(N):\n",
        "    C, P = input().split()\n",
        "    C = int(C)\n",
        "    P = float(P)\n",
        "    valor_total += C * P\n",
        "print(f\"{valor_total:.2f}\")\n"
      ]
    },
    {
      "cell_type": "code",
      "source": [
        "N, Q = map(int, input().split())\n",
        "total_bolinhas = 0\n",
        "for i in range(N):\n",
        "    total_bolinhas += Q * (2 ** i)\n",
        "print(total_bolinhas)"
      ],
      "metadata": {
        "colab": {
          "base_uri": "https://localhost:8080/"
        },
        "id": "jJQydK6e3zxb",
        "outputId": "98c57c1e-95a9-4c42-87f7-a13548c955c9"
      },
      "execution_count": null,
      "outputs": [
        {
          "output_type": "stream",
          "name": "stdout",
          "text": [
            "10 2\n",
            "2046\n"
          ]
        }
      ]
    },
    {
      "cell_type": "code",
      "source": [
        "T = int(input().strip())\n",
        "while True:\n",
        "    P = int(input().strip())\n",
        "    if P > T:\n",
        "        print(\"ALARME\")\n",
        "        break\n",
        "    if P == 0:\n",
        "        print(\"O Havai pode dormir tranquilo\")\n",
        "        break\n",
        "\n"
      ],
      "metadata": {
        "colab": {
          "base_uri": "https://localhost:8080/"
        },
        "id": "3T75riDB_pUh",
        "outputId": "5c730968-c97a-419f-bb1d-35aad0c9a693"
      },
      "execution_count": null,
      "outputs": [
        {
          "output_type": "stream",
          "name": "stdout",
          "text": [
            "100\n",
            "5\n",
            "10\n",
            "15\n",
            "20\n",
            "99\n",
            "50\n",
            "0\n",
            "O Havai pode dormir tranquilo\n"
          ]
        }
      ]
    },
    {
      "cell_type": "code",
      "source": [
        "E, P = map(int, input().split())\n",
        "ataques = 0\n",
        "while E > 0 and P > 0:\n",
        "    E -= P\n",
        "    P -= 1\n",
        "    ataques += 1\n",
        "if E <= 0:\n",
        "    print(ataques)\n",
        "else:\n",
        "    print(\"F\")\n"
      ],
      "metadata": {
        "colab": {
          "base_uri": "https://localhost:8080/"
        },
        "id": "U-x1hbfhCWNu",
        "outputId": "3e5408d4-5eff-4e48-8d1a-c2075e66bdd9"
      },
      "execution_count": null,
      "outputs": [
        {
          "output_type": "stream",
          "name": "stdout",
          "text": [
            "2000 150\n",
            "14\n"
          ]
        }
      ]
    },
    {
      "cell_type": "code",
      "source": [
        "misturas = {\n",
        "    (\"vermelho\", \"azul\"): \"roxo\",\n",
        "    (\"azul\", \"vermelho\"): \"roxo\",\n",
        "    (\"amarelo\", \"azul\"): \"verde\",\n",
        "    (\"azul\", \"amarelo\"): \"verde\",\n",
        "    (\"vermelho\", \"amarelo\"): \"laranja\",\n",
        "    (\"amarelo\", \"vermelho\"): \"laranja\",\n",
        "    (\"azul\", \"verde\"): \"ciano\",\n",
        "    (\"verde\", \"azul\"): \"ciano\",\n",
        "    (\"amarelo\", \"verde\"): \"lima\",\n",
        "    (\"verde\", \"amarelo\"): \"lima\",\n",
        "    (\"vermelho\", \"verde\"): \"marrom\",\n",
        "    (\"verde\", \"vermelho\"): \"marrom\"\n",
        "}\n",
        "\n",
        "def calcular_cor(ultima, penultima):\n",
        "    if ultima == penultima:\n",
        "        return ultima\n",
        "    return misturas.get((ultima, penultima), misturas.get((penultima, ultima), \"indefinido\"))\n",
        "ultimas_cores = []\n",
        "while True:\n",
        "    cor = input().strip().lower()\n",
        "    if cor == \"preto\":\n",
        "        print(\"Game Over\")\n",
        "        break\n",
        "    elif cor == \"branco\":\n",
        "        break\n",
        "    ultimas_cores.append(cor)\n",
        "    if len(ultimas_cores) > 1:\n",
        "        resultado = calcular_cor(ultimas_cores[-1], ultimas_cores[-2])\n",
        "        print(resultado)\n",
        "\n"
      ],
      "metadata": {
        "colab": {
          "base_uri": "https://localhost:8080/"
        },
        "id": "yJZyGFHvSsiN",
        "outputId": "2cdfe8c0-9e16-4c2a-a418-5bb11de42ccb"
      },
      "execution_count": null,
      "outputs": [
        {
          "name": "stdout",
          "output_type": "stream",
          "text": [
            "vermelho\n",
            "azul\n",
            "roxo\n",
            "amarelo\n",
            "verde\n",
            "branco\n"
          ]
        }
      ]
    }
  ]
}