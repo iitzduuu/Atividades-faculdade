{
  "nbformat": 4,
  "nbformat_minor": 0,
  "metadata": {
    "colab": {
      "provenance": [],
      "authorship_tag": "ABX9TyNYnh5G5olNFAjp5kBni34r",
      "include_colab_link": true
    },
    "kernelspec": {
      "name": "python3",
      "display_name": "Python 3"
    },
    "language_info": {
      "name": "python"
    }
  },
  "cells": [
    {
      "cell_type": "markdown",
      "metadata": {
        "id": "view-in-github",
        "colab_type": "text"
      },
      "source": [
        "<a href=\"https://colab.research.google.com/github/iitzduuu/Atividades-faculdade/blob/main/pd1.ipynb\" target=\"_parent\"><img src=\"https://colab.research.google.com/assets/colab-badge.svg\" alt=\"Open In Colab\"/></a>"
      ]
    },
    {
      "cell_type": "code",
      "source": [
        "#1\n",
        "print('Hello World!')\n",
        "print('Hello Jude 2.0!')"
      ],
      "metadata": {
        "colab": {
          "base_uri": "https://localhost:8080/"
        },
        "id": "mNoq4EU8zAK8",
        "outputId": "01339528-d08c-49b1-f245-be5057050ed4"
      },
      "execution_count": null,
      "outputs": [
        {
          "output_type": "stream",
          "name": "stdout",
          "text": [
            "Hello World!\n",
            "Hello Jude 2.0\n"
          ]
        }
      ]
    },
    {
      "cell_type": "code",
      "execution_count": null,
      "metadata": {
        "colab": {
          "base_uri": "https://localhost:8080/"
        },
        "id": "cqBJKrl0yUpz",
        "outputId": "4b75d985-00d7-4377-8eca-f9b8ab9e93cf"
      },
      "outputs": [
        {
          "output_type": "stream",
          "name": "stdout",
          "text": [
            "28\n",
            "nome sobrenome\n"
          ]
        }
      ],
      "source": [
        "#2\n",
        "x = 3*4+2*8\n",
        "n = 'nome'\n",
        "s = 'sobrenome'\n",
        "c = n+' '+s\n",
        "print(x)\n",
        "print(c)"
      ]
    },
    {
      "cell_type": "code",
      "source": [
        "#3\n",
        "n1 = int(input())\n",
        "n2 = int(input())\n",
        "soma = n1+n2\n",
        "print(soma)\n",
        "subtracao = n1-n2\n",
        "print(subtracao)\n",
        "mult = n1*n2\n",
        "print(mult)\n",
        "div = n1//n2\n",
        "print(div)\n",
        "resto = n1%n2\n",
        "print(resto)\n"
      ],
      "metadata": {
        "colab": {
          "base_uri": "https://localhost:8080/"
        },
        "id": "BGfR57b8zNEq",
        "outputId": "6c40bd07-9c8e-4da1-c3d0-203c39af326c"
      },
      "execution_count": null,
      "outputs": [
        {
          "output_type": "stream",
          "name": "stdout",
          "text": [
            "2\n",
            "3\n",
            "5\n",
            "-1\n",
            "6\n",
            "0\n",
            "2\n"
          ]
        }
      ]
    },
    {
      "cell_type": "code",
      "source": [
        "#4\n",
        "m1 = int(input())\n",
        "energia1 = m1*120\n",
        "m2 = int(input())\n",
        "energia2 = m2*85\n",
        "m3 = int(input())\n",
        "energia3 = m3*50\n",
        "m4 = int(input())\n",
        "energia4 = m4*30\n",
        "\n",
        "totalenergia = energia1+energia2+energia3+energia4\n",
        "print(totalenergia)\n"
      ],
      "metadata": {
        "id": "qmUcC1RH1GgQ",
        "colab": {
          "base_uri": "https://localhost:8080/"
        },
        "outputId": "f89b358c-6ec2-434a-8d5f-c03486845439"
      },
      "execution_count": null,
      "outputs": [
        {
          "output_type": "stream",
          "name": "stdout",
          "text": [
            "100\n",
            "60\n",
            "45\n",
            "37\n",
            "20460\n"
          ]
        }
      ]
    },
    {
      "cell_type": "code",
      "source": [
        "#5\n",
        "t1 = int(input())\n",
        "t2 = int(input())\n",
        "t3 = int(input())\n",
        "t4 = int(input())\n",
        "t5 = int(input())\n",
        "t6 = int(input())\n",
        "\n",
        "totaltesouros = t1+t2+t3+t4+t5+t6\n",
        "print(totaltesouros)"
      ],
      "metadata": {
        "colab": {
          "base_uri": "https://localhost:8080/"
        },
        "id": "Y2eYrCGqtYq8",
        "outputId": "304e301e-8e3f-452d-e327-4d394865560b"
      },
      "execution_count": null,
      "outputs": [
        {
          "output_type": "stream",
          "name": "stdout",
          "text": [
            "1\n",
            "2\n",
            "3\n",
            "4\n",
            "5\n",
            "6\n",
            "21\n"
          ]
        }
      ]
    },
    {
      "cell_type": "code",
      "source": [
        "#6\n",
        "a = int(input())\n",
        "b = int(input())\n",
        "c = int(input())\n",
        "d = int(input())\n",
        "e = int(input())\n",
        "totalnaves = a-b-c-d-e\n",
        "print(totalnaves)"
      ],
      "metadata": {
        "colab": {
          "base_uri": "https://localhost:8080/"
        },
        "id": "UDAqVRYbt7tP",
        "outputId": "f99322ff-5d27-4682-9715-76274c5cbf61"
      },
      "execution_count": null,
      "outputs": [
        {
          "output_type": "stream",
          "name": "stdout",
          "text": [
            "55\n",
            "1\n",
            "2\n",
            "3\n",
            "4\n",
            "45\n"
          ]
        }
      ]
    },
    {
      "cell_type": "code",
      "source": [
        "#7\n",
        "total_dias = int(input())\n",
        "anos = total_dias//365\n",
        "resto_depois_dos_anos = total_dias % 365\n",
        "meses = resto_depois_dos_anos//30\n",
        "dias = resto_depois_dos_anos%30\n",
        "print(f\"{anos} ano(s)\")\n",
        "print(f\"{meses} mes(es)\")\n",
        "print(f\"{dias} dia(s)\")"
      ],
      "metadata": {
        "colab": {
          "base_uri": "https://localhost:8080/"
        },
        "id": "MlIoXbGvycft",
        "outputId": "c910a8fd-72dc-473a-e830-077fb81beab5"
      },
      "execution_count": null,
      "outputs": [
        {
          "output_type": "stream",
          "name": "stdout",
          "text": [
            "400\n",
            "1 ano(s)\n",
            "1 mes(es)\n",
            "5 dia(s)\n"
          ]
        }
      ]
    },
    {
      "cell_type": "code",
      "source": [
        "#8\n",
        "peso_cao1 = int(input(\"Digite a quantidade diária de ração para o primeiro cão (em gramas): \"))\n",
        "peso_cao2 = int(input(\"Digite a quantidade diária de ração para o segundo cão (em gramas): \"))\n",
        "\n",
        "total_semanal = (peso_cao1 + peso_cao2) * 7\n",
        "\n",
        "peso_saco = (total_semanal + 999) // 1000\n",
        "\n",
        "print(f\"O peso mínimo do saco de ração que João deve comprar é: {peso_saco} kg\")\n",
        "\n"
      ],
      "metadata": {
        "colab": {
          "base_uri": "https://localhost:8080/"
        },
        "id": "EuQUT-g73li_",
        "outputId": "f2dc1f99-5852-4d71-c8ad-420ad5191555"
      },
      "execution_count": null,
      "outputs": [
        {
          "output_type": "stream",
          "name": "stdout",
          "text": [
            "Digite a quantidade diária de ração para o primeiro cão (em gramas): 100\n",
            "Digite a quantidade diária de ração para o segundo cão (em gramas): 100\n",
            "O peso mínimo do saco de ração que João deve comprar é: 2 kg\n"
          ]
        }
      ]
    },
    {
      "cell_type": "code",
      "source": [
        "#9\n",
        "t1, t2, t3, t4, t5, t6 = map(int, input().split())\n",
        "total_tesouros = t1 + t2 + t3 + t4 + t5 + t6\n",
        "print(total_tesouros)"
      ],
      "metadata": {
        "id": "N3ueS0KIAN9q",
        "colab": {
          "base_uri": "https://localhost:8080/"
        },
        "outputId": "59654621-c8b8-4455-ab3a-c5d4da1d13d3"
      },
      "execution_count": null,
      "outputs": [
        {
          "output_type": "stream",
          "name": "stdout",
          "text": [
            "1 2 3 4 5 6\n",
            "21\n"
          ]
        }
      ]
    },
    {
      "cell_type": "code",
      "source": [
        "#9\n",
        "a, b , c, d, e = map(int, input().split())\n",
        "total_naves = a - b - c - d - e\n",
        "print(total_naves)"
      ],
      "metadata": {
        "colab": {
          "base_uri": "https://localhost:8080/"
        },
        "id": "P1rJDoYd3Wv-",
        "outputId": "d40863f9-527e-4138-a742-c29c57b5b90d"
      },
      "execution_count": null,
      "outputs": [
        {
          "output_type": "stream",
          "name": "stdout",
          "text": [
            "100 10 20 30 30\n",
            "10\n"
          ]
        }
      ]
    },
    {
      "cell_type": "code",
      "source": [
        "k, j, h = map(int, input().split())\n",
        "\n",
        "nk, nj, nh = map(int, input().split())\n",
        "\n",
        "total_k = k + nk\n",
        "total_j = j + nj\n",
        "total_h = h + nh\n",
        "\n",
        "print(f\"{total_k} {total_j} {total_h}\")\n",
        "\n"
      ],
      "metadata": {
        "id": "NwZvjRtL44ar",
        "colab": {
          "base_uri": "https://localhost:8080/"
        },
        "outputId": "e66e9793-9616-47fe-ae2d-13bd1438be6b"
      },
      "execution_count": null,
      "outputs": [
        {
          "output_type": "stream",
          "name": "stdout",
          "text": [
            "92 40 54\n",
            "1 0 0\n",
            "93 40 54\n"
          ]
        }
      ]
    },
    {
      "cell_type": "code",
      "source": [
        "t, d = map(int, input().split())\n",
        "v, p = map(int, input().split())\n",
        "total = t+d-v+p + 1\n",
        "print(total)"
      ],
      "metadata": {
        "colab": {
          "base_uri": "https://localhost:8080/"
        },
        "id": "FzmEETkSS8hV",
        "outputId": "905587d7-33f8-45a6-834a-a9c318b3be29"
      },
      "execution_count": null,
      "outputs": [
        {
          "output_type": "stream",
          "name": "stdout",
          "text": [
            "100 51\n",
            "2 50\n",
            "200\n"
          ]
        }
      ]
    },
    {
      "cell_type": "code",
      "source": [
        "\n",
        "T, D = map(int, input().split())\n",
        "\n",
        "\n",
        "V, P = map(int, input().split())\n",
        "\n",
        "\n",
        "numero_pedagios = T // D\n",
        "\n",
        "\n",
        "custo_total = (T * V) + (numero_pedagios * P)\n",
        "\n",
        "\n",
        "print(custo_total)\n"
      ],
      "metadata": {
        "colab": {
          "base_uri": "https://localhost:8080/"
        },
        "id": "RwgxECSIVSAf",
        "outputId": "bc3a6d6a-6489-41b6-ca57-130cd01ac774"
      },
      "execution_count": null,
      "outputs": [
        {
          "output_type": "stream",
          "name": "stdout",
          "text": [
            "100 51\n",
            "2 50\n",
            "250\n"
          ]
        }
      ]
    },
    {
      "cell_type": "code",
      "source": [
        "\n",
        "X = int(input())\n",
        "\n",
        "\n",
        "if X <= 20:\n",
        "    Y = 0\n",
        "else:\n",
        "    Y = (X - 20) // 5\n",
        "\n",
        "print(Y)\n"
      ],
      "metadata": {
        "colab": {
          "base_uri": "https://localhost:8080/"
        },
        "id": "9zi4PpxlW4kr",
        "outputId": "e33a3b38-198e-4c57-9922-09a93c0809d6"
      },
      "execution_count": null,
      "outputs": [
        {
          "output_type": "stream",
          "name": "stdout",
          "text": [
            "30\n",
            "2\n"
          ]
        }
      ]
    },
    {
      "cell_type": "code",
      "source": [
        "\n",
        "gramas_cao1 = int(input())\n",
        "gramas_cao2 = int(input())\n",
        "\n",
        "total_gramas = (gramas_cao1 + gramas_cao2) * 7\n",
        "\n",
        "\n",
        "saco_kg = (total_gramas + 999) // 1000\n",
        "\n",
        "\n",
        "print(f\"{saco_kg}kg\")\n"
      ],
      "metadata": {
        "colab": {
          "base_uri": "https://localhost:8080/"
        },
        "id": "JfvVHOpWakvk",
        "outputId": "5275ff94-c64b-416a-fe03-b2d202542fbd"
      },
      "execution_count": null,
      "outputs": [
        {
          "output_type": "stream",
          "name": "stdout",
          "text": [
            "100\n",
            "100\n",
            "2kg\n"
          ]
        }
      ]
    }
  ]
}