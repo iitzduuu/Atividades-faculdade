{
  "nbformat": 4,
  "nbformat_minor": 0,
  "metadata": {
    "colab": {
      "provenance": [],
      "authorship_tag": "ABX9TyOK2VS9u+EnXlz1Buy0zD6o",
      "include_colab_link": true
    },
    "kernelspec": {
      "name": "python3",
      "display_name": "Python 3"
    },
    "language_info": {
      "name": "python"
    }
  },
  "cells": [
    {
      "cell_type": "markdown",
      "metadata": {
        "id": "view-in-github",
        "colab_type": "text"
      },
      "source": [
        "<a href=\"https://colab.research.google.com/github/iitzduuu/Atividades-faculdade/blob/main/pd1.ipynb\" target=\"_parent\"><img src=\"https://colab.research.google.com/assets/colab-badge.svg\" alt=\"Open In Colab\"/></a>"
      ]
    },
    {
      "cell_type": "code",
      "source": [
        "#1\n",
        "print('Hello World!')\n",
        "print('Hello Jude 2.0!')"
      ],
      "metadata": {
        "colab": {
          "base_uri": "https://localhost:8080/"
        },
        "id": "mNoq4EU8zAK8",
        "outputId": "01339528-d08c-49b1-f245-be5057050ed4"
      },
      "execution_count": null,
      "outputs": [
        {
          "output_type": "stream",
          "name": "stdout",
          "text": [
            "Hello World!\n",
            "Hello Jude 2.0\n"
          ]
        }
      ]
    },
    {
      "cell_type": "code",
      "execution_count": null,
      "metadata": {
        "colab": {
          "base_uri": "https://localhost:8080/"
        },
        "id": "cqBJKrl0yUpz",
        "outputId": "4b75d985-00d7-4377-8eca-f9b8ab9e93cf"
      },
      "outputs": [
        {
          "output_type": "stream",
          "name": "stdout",
          "text": [
            "28\n",
            "nome sobrenome\n"
          ]
        }
      ],
      "source": [
        "#2\n",
        "x = 3*4+2*8\n",
        "n = 'nome'\n",
        "s = 'sobrenome'\n",
        "c = n+' '+s\n",
        "print(x)\n",
        "print(c)"
      ]
    },
    {
      "cell_type": "code",
      "source": [
        "#3\n",
        "n1 = int(input())\n",
        "n2 = int(input())\n",
        "soma = n1+n2\n",
        "print(soma)\n",
        "subtracao = n1-n2\n",
        "print(subtracao)\n",
        "mult = n1*n2\n",
        "print(mult)\n",
        "div = n1//n2\n",
        "print(div)\n",
        "resto = n1%n2\n",
        "print(resto)\n"
      ],
      "metadata": {
        "colab": {
          "base_uri": "https://localhost:8080/"
        },
        "id": "BGfR57b8zNEq",
        "outputId": "6c40bd07-9c8e-4da1-c3d0-203c39af326c"
      },
      "execution_count": null,
      "outputs": [
        {
          "output_type": "stream",
          "name": "stdout",
          "text": [
            "2\n",
            "3\n",
            "5\n",
            "-1\n",
            "6\n",
            "0\n",
            "2\n"
          ]
        }
      ]
    },
    {
      "cell_type": "code",
      "source": [
        "#4\n",
        "m1 = int(input())\n",
        "energia1 = m1*120\n",
        "m2 = int(input())\n",
        "energia2 = m2*85\n",
        "m3 = int(input())\n",
        "energia3 = m3*50\n",
        "m4 = int(input())\n",
        "energia4 = m4*30\n",
        "\n",
        "totalenergia = energia1+energia2+energia3+energia4\n",
        "print(totalenergia)\n"
      ],
      "metadata": {
        "id": "qmUcC1RH1GgQ",
        "colab": {
          "base_uri": "https://localhost:8080/"
        },
        "outputId": "f89b358c-6ec2-434a-8d5f-c03486845439"
      },
      "execution_count": null,
      "outputs": [
        {
          "output_type": "stream",
          "name": "stdout",
          "text": [
            "100\n",
            "60\n",
            "45\n",
            "37\n",
            "20460\n"
          ]
        }
      ]
    },
    {
      "cell_type": "code",
      "source": [
        "#5\n",
        "t1 = int(input())\n",
        "t2 = int(input())\n",
        "t3 = int(input())\n",
        "t4 = int(input())\n",
        "t5 = int(input())\n",
        "t6 = int(input())\n",
        "\n",
        "totaltesouros = t1+t2+t3+t4+t5+t6\n",
        "print(totaltesouros)"
      ],
      "metadata": {
        "colab": {
          "base_uri": "https://localhost:8080/"
        },
        "id": "Y2eYrCGqtYq8",
        "outputId": "304e301e-8e3f-452d-e327-4d394865560b"
      },
      "execution_count": null,
      "outputs": [
        {
          "output_type": "stream",
          "name": "stdout",
          "text": [
            "1\n",
            "2\n",
            "3\n",
            "4\n",
            "5\n",
            "6\n",
            "21\n"
          ]
        }
      ]
    },
    {
      "cell_type": "code",
      "source": [
        "#6\n",
        "a = int(input())\n",
        "b = int(input())\n",
        "c = int(input())\n",
        "d = int(input())\n",
        "e = int(input())\n",
        "totalnaves = a-b-c-d-e\n",
        "print(totalnaves)"
      ],
      "metadata": {
        "colab": {
          "base_uri": "https://localhost:8080/"
        },
        "id": "UDAqVRYbt7tP",
        "outputId": "f99322ff-5d27-4682-9715-76274c5cbf61"
      },
      "execution_count": null,
      "outputs": [
        {
          "output_type": "stream",
          "name": "stdout",
          "text": [
            "55\n",
            "1\n",
            "2\n",
            "3\n",
            "4\n",
            "45\n"
          ]
        }
      ]
    },
    {
      "cell_type": "code",
      "source": [
        "#7\n",
        "total_dias = int(input())\n",
        "anos = total_dias//365\n",
        "resto_depois_dos_anos = total_dias % 365\n",
        "meses = resto_depois_dos_anos//30\n",
        "dias = resto_depois_dos_anos%30\n",
        "print(f\"{anos} ano(s)\")\n",
        "print(f\"{meses} mes(es)\")\n",
        "print(f\"{dias} dia(s)\")"
      ],
      "metadata": {
        "colab": {
          "base_uri": "https://localhost:8080/"
        },
        "id": "MlIoXbGvycft",
        "outputId": "c910a8fd-72dc-473a-e830-077fb81beab5"
      },
      "execution_count": null,
      "outputs": [
        {
          "output_type": "stream",
          "name": "stdout",
          "text": [
            "400\n",
            "1 ano(s)\n",
            "1 mes(es)\n",
            "5 dia(s)\n"
          ]
        }
      ]
    },
    {
      "cell_type": "code",
      "source": [
        "#8\n",
        "peso_cao1 = int(input(\"Digite a quantidade diária de ração para o primeiro cão (em gramas): \"))\n",
        "peso_cao2 = int(input(\"Digite a quantidade diária de ração para o segundo cão (em gramas): \"))\n",
        "\n",
        "total_semanal = (peso_cao1 + peso_cao2) * 7\n",
        "\n",
        "peso_saco = (total_semanal + 999) // 1000\n",
        "\n",
        "print(f\"O peso mínimo do saco de ração que João deve comprar é: {peso_saco} kg\")\n",
        "\n"
      ],
      "metadata": {
        "colab": {
          "base_uri": "https://localhost:8080/"
        },
        "id": "EuQUT-g73li_",
        "outputId": "f2dc1f99-5852-4d71-c8ad-420ad5191555"
      },
      "execution_count": null,
      "outputs": [
        {
          "output_type": "stream",
          "name": "stdout",
          "text": [
            "Digite a quantidade diária de ração para o primeiro cão (em gramas): 100\n",
            "Digite a quantidade diária de ração para o segundo cão (em gramas): 100\n",
            "O peso mínimo do saco de ração que João deve comprar é: 2 kg\n"
          ]
        }
      ]
    },
    {
      "cell_type": "code",
      "source": [
        "#9\n",
        "t1, t2, t3, t4, t5, t6 = map(int, input().split())\n",
        "total_tesouros = t1 + t2 + t3 + t4 + t5 + t6\n",
        "print(total_tesouros)"
      ],
      "metadata": {
        "id": "N3ueS0KIAN9q",
        "colab": {
          "base_uri": "https://localhost:8080/"
        },
        "outputId": "59654621-c8b8-4455-ab3a-c5d4da1d13d3"
      },
      "execution_count": null,
      "outputs": [
        {
          "output_type": "stream",
          "name": "stdout",
          "text": [
            "1 2 3 4 5 6\n",
            "21\n"
          ]
        }
      ]
    },
    {
      "cell_type": "code",
      "source": [
        "k, j, h = map(int, input().split())\n",
        "\n",
        "nk, nj, nh = map(int, input().split())\n",
        "\n",
        "total_k = k + nk\n",
        "total_j = j + nj\n",
        "total_h = h + nh\n",
        "\n",
        "print(f\"{total_k} {total_j} {total_h}\")\n",
        "\n"
      ],
      "metadata": {
        "id": "NwZvjRtL44ar",
        "colab": {
          "base_uri": "https://localhost:8080/"
        },
        "outputId": "e66e9793-9616-47fe-ae2d-13bd1438be6b"
      },
      "execution_count": null,
      "outputs": [
        {
          "output_type": "stream",
          "name": "stdout",
          "text": [
            "92 40 54\n",
            "1 0 0\n",
            "93 40 54\n"
          ]
        }
      ]
    },
    {
      "cell_type": "code",
      "source": [
        "t, d = map(int, input().split())\n",
        "v, p = map(int, input().split())\n",
        "total = t+d-v+p + 1\n",
        "print(total)"
      ],
      "metadata": {
        "colab": {
          "base_uri": "https://localhost:8080/"
        },
        "id": "FzmEETkSS8hV",
        "outputId": "905587d7-33f8-45a6-834a-a9c318b3be29"
      },
      "execution_count": null,
      "outputs": [
        {
          "output_type": "stream",
          "name": "stdout",
          "text": [
            "100 51\n",
            "2 50\n",
            "200\n"
          ]
        }
      ]
    },
    {
      "cell_type": "code",
      "source": [
        "\n",
        "T, D = map(int, input().split())\n",
        "\n",
        "\n",
        "V, P = map(int, input().split())\n",
        "\n",
        "\n",
        "numero_pedagios = T // D\n",
        "\n",
        "\n",
        "custo_total = (T * V) + (numero_pedagios * P)\n",
        "\n",
        "\n",
        "print(custo_total)\n"
      ],
      "metadata": {
        "colab": {
          "base_uri": "https://localhost:8080/"
        },
        "id": "RwgxECSIVSAf",
        "outputId": "bc3a6d6a-6489-41b6-ca57-130cd01ac774"
      },
      "execution_count": null,
      "outputs": [
        {
          "output_type": "stream",
          "name": "stdout",
          "text": [
            "100 51\n",
            "2 50\n",
            "250\n"
          ]
        }
      ]
    },
    {
      "cell_type": "code",
      "source": [
        "\n",
        "X = int(input())\n",
        "\n",
        "\n",
        "if X <= 20:\n",
        "    Y = 0\n",
        "else:\n",
        "    Y = (X - 20) // 5\n",
        "\n",
        "print(Y)\n"
      ],
      "metadata": {
        "colab": {
          "base_uri": "https://localhost:8080/"
        },
        "id": "9zi4PpxlW4kr",
        "outputId": "e33a3b38-198e-4c57-9922-09a93c0809d6"
      },
      "execution_count": null,
      "outputs": [
        {
          "output_type": "stream",
          "name": "stdout",
          "text": [
            "30\n",
            "2\n"
          ]
        }
      ]
    },
    {
      "cell_type": "code",
      "source": [
        "kg = 1000\n",
        "\n",
        "racao1 = int(input())\n",
        "racao2 = int(input())\n",
        "diaria = racao1 + racao2\n",
        "semanal = diaria * 7\n",
        "\n",
        "total_racao = semanal / kg\n",
        "print(f\"{total_racao:.0f}kg\")"
      ],
      "metadata": {
        "colab": {
          "base_uri": "https://localhost:8080/"
        },
        "id": "JfvVHOpWakvk",
        "outputId": "93eb25f3-dcd0-45ed-b675-06a37b214921"
      },
      "execution_count": null,
      "outputs": [
        {
          "output_type": "stream",
          "name": "stdout",
          "text": [
            "100\n",
            "100\n",
            " 1 kg\n"
          ]
        }
      ]
    },
    {
      "cell_type": "code",
      "source": [
        "#1 lista 2\n",
        "cm = 100\n",
        "a1, a2, a3 = map(int, input().split())\n",
        "maior_altura = max(a1,a2,a3)\n",
        "print(maior_altura)"
      ],
      "metadata": {
        "colab": {
          "base_uri": "https://localhost:8080/"
        },
        "id": "1LJzCLWEda3I",
        "outputId": "0bfea6f0-5c52-409b-a877-5e9359aaf91a"
      },
      "execution_count": null,
      "outputs": [
        {
          "output_type": "stream",
          "name": "stdout",
          "text": [
            "100 150 140\n",
            "150\n"
          ]
        }
      ]
    },
    {
      "cell_type": "code",
      "source": [
        "aprovacao = float(input())\n",
        "nota1 = float(input())\n",
        "nota2 = float(input())\n",
        "media = (nota1+nota2)/2\n",
        "if media >= aprovacao:\n",
        "    print(f\"Aluno aprovado na disciplina! Parabens! A sua media foi: {media:.2f}\")\n"
      ],
      "metadata": {
        "colab": {
          "base_uri": "https://localhost:8080/"
        },
        "id": "Id2vYL-agSsf",
        "outputId": "c5f961f4-4f1a-48f3-9ed9-8714d02eec72"
      },
      "execution_count": null,
      "outputs": [
        {
          "output_type": "stream",
          "name": "stdout",
          "text": [
            "5.0\n",
            "4.0\n",
            "6.5\n",
            "Aluno aprovado na disciplina! Parabens! A sua media foi: 5.25\n"
          ]
        }
      ]
    },
    {
      "cell_type": "code",
      "source": [
        "k1 = int(input())\n",
        "k2 = int(input())\n",
        "k3 = int(input())\n",
        "k4 = int(input())\n",
        "k5 = int(input())\n",
        "ktotal = k1+k2+k3+k4+k5\n",
        "if ktotal > 5000:\n",
        "  print(\"Acesso proibido\")\n",
        "else:\n",
        "  print(\"Acesso liberado\")\n"
      ],
      "metadata": {
        "colab": {
          "base_uri": "https://localhost:8080/"
        },
        "id": "XyqygcLuuW8r",
        "outputId": "6d710c21-cb4e-44ea-f0c5-db712d009f25"
      },
      "execution_count": null,
      "outputs": [
        {
          "output_type": "stream",
          "name": "stdout",
          "text": [
            "300\n",
            "500\n",
            "1000\n",
            "350\n",
            "100\n",
            "Acesso liberado\n"
          ]
        }
      ]
    },
    {
      "cell_type": "code",
      "source": [
        "A = int(input())\n",
        "B = int(input())\n",
        "if A > B:\n",
        "  print(A)\n",
        "  print(\"Lux\")\n",
        "if A < B:\n",
        "  print(B)\n",
        "  print(\"Ekko\")\n",
        "if A == B:\n",
        "  print(B)\n",
        "  print(\"Os dois tem a mesma quantidade de poder\")\n"
      ],
      "metadata": {
        "id": "JrczQ0iSy4eF",
        "colab": {
          "base_uri": "https://localhost:8080/"
        },
        "outputId": "d5412105-12e6-4c00-dd7c-baf6590b24fc"
      },
      "execution_count": null,
      "outputs": [
        {
          "output_type": "stream",
          "name": "stdout",
          "text": [
            "35\n",
            "70\n",
            "70\n",
            "Ekko\n"
          ]
        }
      ]
    },
    {
      "cell_type": "code",
      "source": [
        "C, c, X = map(int, input().split())\n",
        "total_cubos = (C // c) ** 3\n",
        "if total_cubos <= X:\n",
        "    print(\"Eh possivel\")\n",
        "else:\n",
        "    print(\"!Eh possivel\")"
      ],
      "metadata": {
        "colab": {
          "base_uri": "https://localhost:8080/"
        },
        "id": "_MOc_yWT3Aln",
        "outputId": "727461b8-118c-4701-9c05-af5d14f3be99"
      },
      "execution_count": null,
      "outputs": [
        {
          "output_type": "stream",
          "name": "stdout",
          "text": [
            "945 45 329239127\n",
            "Eh possivel\n"
          ]
        }
      ]
    },
    {
      "cell_type": "code",
      "source": [
        "p = input()\n",
        "p1, p2, p3 = map(float, input().split())\n",
        "\n",
        "if p == \"S\":\n",
        "    print(int(80 / p1))\n",
        "if p == \"M\":\n",
        "    print(int(80 / p2))\n",
        "if p == \"H\":\n",
        "    print(int(80 / p3))\n",
        "\n",
        "\n"
      ],
      "metadata": {
        "id": "tVBnGjsN5CoZ"
      },
      "execution_count": null,
      "outputs": []
    },
    {
      "cell_type": "code",
      "source": [
        "entrada = input()\n",
        "nome, idade, j, k, l, m = entrada.split()\n",
        "idade = int(idade)\n",
        "j = int(j)\n",
        "k = int(k)\n",
        "l = int(l)\n",
        "m = int(m)\n",
        "if idade <= 8:\n",
        "    print(\"Nao possue idade minima \\n\"\n",
        "          f\"{nome} não cumpre todas as condiçoes!\")\n",
        "if j < 1:\n",
        "    print(\"Nao possue bussola\")\n",
        "if k < 1:\n",
        "    print(\"Nao possue espada magica\")\n",
        "if l < 1:\n",
        "    print(\"Nao possue mapa\")\n",
        "if m < 1:\n",
        "    print(\"Nao possue po magico\")\n",
        "else:\n",
        "                 print(f\"{nome}, condiçoes ok! Boa sorte na busca do tesouro\")"
      ],
      "metadata": {
        "colab": {
          "base_uri": "https://localhost:8080/"
        },
        "id": "ntqeT0WUtYZn",
        "outputId": "e20e70e6-63e9-4888-9b0b-b4f9154d491a"
      },
      "execution_count": null,
      "outputs": [
        {
          "output_type": "stream",
          "name": "stdout",
          "text": [
            "Lipe 12 0 1 1 0\n",
            "Nao possue bussola\n"
          ]
        }
      ]
    },
    {
      "cell_type": "code",
      "source": [
        "nome, idade, j, k, l, m = input().split()\n",
        "idade, j, k, l, m = int(idade), int(j), int(k), int(l), int(m)\n",
        "\n",
        "erros = []\n",
        "\n",
        "if idade < 12:\n",
        "    erros.append(\"Nao possui idade minima; \")\n",
        "if j == 0:\n",
        "    erros.append(\"Nao possui bussola; \")\n",
        "if k == 0:\n",
        "    erros.append(\"Nao possui mapa do tesouro; \")\n",
        "if l == 0:\n",
        "    erros.append(\"Nao possui po magico; \")\n",
        "if m == 0:\n",
        "    erros.append(\"Nao possui espada magica; \")\n",
        "\n",
        "if erros:\n",
        "    print(*erros, sep=\"\")\n",
        "    print(f\"{nome} nao cumpre todas as condicoes!\")\n",
        "else:\n",
        "    print(f\"{nome}, condicoes ok! Boa sorte na busca pelo tesouro!\")\n"
      ],
      "metadata": {
        "colab": {
          "base_uri": "https://localhost:8080/"
        },
        "id": "xv65mc17Ea9Z",
        "outputId": "6901a813-357a-4069-b21f-4158ec731752"
      },
      "execution_count": null,
      "outputs": [
        {
          "output_type": "stream",
          "name": "stdout",
          "text": [
            "teste 0 0 0 0 0\n",
            "Nao possui idade minima; Nao possui bussola; Nao possui mapa do tesouro; Nao possui po magico; Nao possui espada magica; \n",
            "teste nao cumpre todas as condicoes!\n"
          ]
        }
      ]
    },
    {
      "cell_type": "code",
      "source": [
        "timea = int, input().split()\n",
        "timeb = int, input().split()\n",
        "total1= timea\n",
        "total2 = timeb\n",
        "if total1 > total2:\n",
        "    print(\"O time A deve recuar agora\")\n",
        "\n",
        "if total2 > total1:\n",
        "  print(\"O time B deve recuar agora\")\n",
        "else:\n",
        "  print(\"A partida ainda não acabou\")\n",
        "\n",
        "\n"
      ],
      "metadata": {
        "colab": {
          "base_uri": "https://localhost:8080/"
        },
        "id": "qQZADTzTKop6",
        "outputId": "53f6bc86-a6a5-4908-efff-d281d1686c57"
      },
      "execution_count": null,
      "outputs": [
        {
          "output_type": "stream",
          "name": "stdout",
          "text": [
            "0 0 1\n",
            "1 2 3\n",
            "O time B deve recuar agora\n"
          ]
        }
      ]
    },
    {
      "cell_type": "code",
      "source": [
        "\n",
        "time_a = list(map(int, input().split()))\n",
        "time_b = list(map(int, input().split()))\n",
        "\n",
        "soma_a = sum(time_a)\n",
        "soma_b = sum(time_b)\n",
        "if soma_a > 10 and soma_a > soma_b:\n",
        "    print(\"O time A deve recuar agora!\")\n",
        "elif soma_b > 10 and soma_b > soma_a:\n",
        "    print(\"O time B deve recuar agora!\")\n",
        "else:\n",
        "    print(\"A partida ainda nao acabou!\")\n"
      ],
      "metadata": {
        "colab": {
          "base_uri": "https://localhost:8080/"
        },
        "id": "g4nwM3f4874U",
        "outputId": "0d18cd84-cddf-4958-d0f5-d3fd0b35dddd"
      },
      "execution_count": null,
      "outputs": [
        {
          "output_type": "stream",
          "name": "stdout",
          "text": [
            "5 6 0\n",
            "3 3 5\n",
            "A partida ainda nao acabou!\n"
          ]
        }
      ]
    },
    {
      "cell_type": "code",
      "source": [
        "\n",
        "A, B, C = map(int, input().split())\n",
        "total_pessoas = C + 1\n",
        "if A * B >= total_pessoas:\n",
        "    print(\"S\")\n",
        "else:\n",
        "    print(\"N\")\n",
        "\n",
        "\n"
      ],
      "metadata": {
        "colab": {
          "base_uri": "https://localhost:8080/"
        },
        "id": "-DDBTrUV_F_w",
        "outputId": "3e09c1fc-91e0-472e-cffc-85637a8b1d8c"
      },
      "execution_count": 4,
      "outputs": [
        {
          "output_type": "stream",
          "name": "stdout",
          "text": [
            "3 2 5\n",
            "S\n"
          ]
        }
      ]
    },
    {
      "cell_type": "code",
      "source": [
        "Q1 = int(input())\n",
        "\n",
        "ciclos = Q1 // 3\n",
        "resto = Q1 % 3\n",
        "\n",
        "vermelho = ciclos\n",
        "azul = ciclos\n",
        "amarelo = ciclos\n",
        "\n",
        "if resto >= 1:\n",
        "    vermelho += 1\n",
        "if resto == 2:\n",
        "    azul += 1\n",
        "\n",
        "print(vermelho)\n",
        "print(azul)\n",
        "print(amarelo)\n"
      ],
      "metadata": {
        "colab": {
          "base_uri": "https://localhost:8080/"
        },
        "id": "RAzyZszHI-Cj",
        "outputId": "5c1e89db-146f-4bbf-b546-29ff49d0b5a8"
      },
      "execution_count": 5,
      "outputs": [
        {
          "output_type": "stream",
          "name": "stdout",
          "text": [
            "5\n",
            "2\n",
            "2\n",
            "1\n"
          ]
        }
      ]
    },
    {
      "cell_type": "code",
      "source": [
        "Q1 = int(input())\n",
        "ciclos = Q1 // 3\n",
        "resto = Q1 % 3\n",
        "\n",
        "vermelho = ciclos\n",
        "azul = ciclos\n",
        "amarelo = ciclos\n",
        "\n",
        "\n",
        "if resto >= 1:\n",
        "    vermelho += 1\n",
        "if resto == 2:\n",
        "    azul += 1\n",
        "\n",
        "\n",
        "print(f\"Vermelho {vermelho}\")\n",
        "print(f\"Azul {azul}\")\n",
        "print(f\"Amarelo {amarelo}\")\n"
      ],
      "metadata": {
        "colab": {
          "base_uri": "https://localhost:8080/"
        },
        "id": "SoVwY_vaJYsE",
        "outputId": "c06063cd-59e2-40a1-f8ec-46a88826bd82"
      },
      "execution_count": 7,
      "outputs": [
        {
          "output_type": "stream",
          "name": "stdout",
          "text": [
            "19\n",
            "Vermelho 7\n",
            "Azul 6\n",
            "Amarelo 6\n"
          ]
        }
      ]
    },
    {
      "cell_type": "code",
      "source": [
        "a, b, c = map(int, input().split())\n",
        "\n",
        "delta = b**2 - 4*a*c\n",
        "\n",
        "if delta < 0:\n",
        "    print(\"Nao existem\")\n",
        "elif delta == 0:\n",
        "    x = -b / (2*a)\n",
        "    print(f\"{x:.2f}\")\n",
        "else:\n",
        "    raiz_delta = delta ** 0.5\n",
        "    x1 = (-b + raiz_delta) / (2*a)\n",
        "    x2 = (-b - raiz_delta) / (2*a)\n",
        "    if x1 > x2:\n",
        "        print(f\"{x1:.2f} {x2:.2f}\")\n",
        "    else:\n",
        "        print(f\"{x2:.2f} {x1:.2f}\")\n"
      ],
      "metadata": {
        "id": "pw93bXrkKNMi"
      },
      "execution_count": null,
      "outputs": []
    },
    {
      "cell_type": "code",
      "source": [
        "z, g = input().split()\n",
        "d, c = input().split()\n",
        "\n",
        "if z == d:\n",
        "    print(\"Bloqueado\")\n",
        "else:\n",
        "    print(\"Driblado\")\n",
        "    if g == c:\n",
        "        print(\"...e o goleiro pega\")\n",
        "    else:\n",
        "        print(\"Gol\")\n"
      ],
      "metadata": {
        "colab": {
          "base_uri": "https://localhost:8080/"
        },
        "id": "yQ8nQiETKp7S",
        "outputId": "0bd088f9-8a2a-4901-f465-303d1060dfee"
      },
      "execution_count": 10,
      "outputs": [
        {
          "output_type": "stream",
          "name": "stdout",
          "text": [
            "d d \n",
            "d d\n",
            "Bloqueado\n"
          ]
        }
      ]
    },
    {
      "cell_type": "code",
      "source": [
        "\n",
        "linha1 = input().split()\n",
        "linha2 = input().split()\n",
        "\n",
        "z, g = linha1\n",
        "d, c = linha2\n",
        "\n",
        "if z == d:\n",
        "    print(\"Bloqueado\")\n",
        "else:\n",
        "    print(\"Driblado\")\n",
        "    if g == c:\n",
        "        print(\"...e o goleiro pega\")\n",
        "    else:\n",
        "        print(\"Gol\")\n"
      ],
      "metadata": {
        "colab": {
          "base_uri": "https://localhost:8080/",
          "height": 356
        },
        "id": "zuAs79JNN7Pf",
        "outputId": "5f0cc403-c1ae-4fd2-fb57-5622e1c7138d"
      },
      "execution_count": 13,
      "outputs": [
        {
          "output_type": "error",
          "ename": "KeyboardInterrupt",
          "evalue": "Interrupted by user",
          "traceback": [
            "\u001b[0;31m---------------------------------------------------------------------------\u001b[0m",
            "\u001b[0;31mKeyboardInterrupt\u001b[0m                         Traceback (most recent call last)",
            "\u001b[0;32m<ipython-input-13-341ff2a937cd>\u001b[0m in \u001b[0;36m<cell line: 0>\u001b[0;34m()\u001b[0m\n\u001b[0;32m----> 1\u001b[0;31m \u001b[0mlinha1\u001b[0m \u001b[0;34m=\u001b[0m \u001b[0minput\u001b[0m\u001b[0;34m(\u001b[0m\u001b[0;34m)\u001b[0m\u001b[0;34m.\u001b[0m\u001b[0msplit\u001b[0m\u001b[0;34m(\u001b[0m\u001b[0;34m)\u001b[0m\u001b[0;34m\u001b[0m\u001b[0;34m\u001b[0m\u001b[0m\n\u001b[0m\u001b[1;32m      2\u001b[0m \u001b[0mlinha2\u001b[0m \u001b[0;34m=\u001b[0m \u001b[0minput\u001b[0m\u001b[0;34m(\u001b[0m\u001b[0;34m)\u001b[0m\u001b[0;34m.\u001b[0m\u001b[0msplit\u001b[0m\u001b[0;34m(\u001b[0m\u001b[0;34m)\u001b[0m\u001b[0;34m\u001b[0m\u001b[0;34m\u001b[0m\u001b[0m\n\u001b[1;32m      3\u001b[0m \u001b[0;34m\u001b[0m\u001b[0m\n\u001b[1;32m      4\u001b[0m \u001b[0mz\u001b[0m\u001b[0;34m,\u001b[0m \u001b[0mg\u001b[0m \u001b[0;34m=\u001b[0m \u001b[0mlinha1\u001b[0m\u001b[0;34m\u001b[0m\u001b[0;34m\u001b[0m\u001b[0m\n\u001b[1;32m      5\u001b[0m \u001b[0md\u001b[0m\u001b[0;34m,\u001b[0m \u001b[0mc\u001b[0m \u001b[0;34m=\u001b[0m \u001b[0mlinha2\u001b[0m\u001b[0;34m\u001b[0m\u001b[0;34m\u001b[0m\u001b[0m\n",
            "\u001b[0;32m/usr/local/lib/python3.11/dist-packages/ipykernel/kernelbase.py\u001b[0m in \u001b[0;36mraw_input\u001b[0;34m(self, prompt)\u001b[0m\n\u001b[1;32m   1175\u001b[0m                 \u001b[0;34m\"raw_input was called, but this frontend does not support input requests.\"\u001b[0m\u001b[0;34m\u001b[0m\u001b[0;34m\u001b[0m\u001b[0m\n\u001b[1;32m   1176\u001b[0m             )\n\u001b[0;32m-> 1177\u001b[0;31m         return self._input_request(\n\u001b[0m\u001b[1;32m   1178\u001b[0m             \u001b[0mstr\u001b[0m\u001b[0;34m(\u001b[0m\u001b[0mprompt\u001b[0m\u001b[0;34m)\u001b[0m\u001b[0;34m,\u001b[0m\u001b[0;34m\u001b[0m\u001b[0;34m\u001b[0m\u001b[0m\n\u001b[1;32m   1179\u001b[0m             \u001b[0mself\u001b[0m\u001b[0;34m.\u001b[0m\u001b[0m_parent_ident\u001b[0m\u001b[0;34m[\u001b[0m\u001b[0;34m\"shell\"\u001b[0m\u001b[0;34m]\u001b[0m\u001b[0;34m,\u001b[0m\u001b[0;34m\u001b[0m\u001b[0;34m\u001b[0m\u001b[0m\n",
            "\u001b[0;32m/usr/local/lib/python3.11/dist-packages/ipykernel/kernelbase.py\u001b[0m in \u001b[0;36m_input_request\u001b[0;34m(self, prompt, ident, parent, password)\u001b[0m\n\u001b[1;32m   1217\u001b[0m             \u001b[0;32mexcept\u001b[0m \u001b[0mKeyboardInterrupt\u001b[0m\u001b[0;34m:\u001b[0m\u001b[0;34m\u001b[0m\u001b[0;34m\u001b[0m\u001b[0m\n\u001b[1;32m   1218\u001b[0m                 \u001b[0;31m# re-raise KeyboardInterrupt, to truncate traceback\u001b[0m\u001b[0;34m\u001b[0m\u001b[0;34m\u001b[0m\u001b[0m\n\u001b[0;32m-> 1219\u001b[0;31m                 \u001b[0;32mraise\u001b[0m \u001b[0mKeyboardInterrupt\u001b[0m\u001b[0;34m(\u001b[0m\u001b[0;34m\"Interrupted by user\"\u001b[0m\u001b[0;34m)\u001b[0m \u001b[0;32mfrom\u001b[0m \u001b[0;32mNone\u001b[0m\u001b[0;34m\u001b[0m\u001b[0;34m\u001b[0m\u001b[0m\n\u001b[0m\u001b[1;32m   1220\u001b[0m             \u001b[0;32mexcept\u001b[0m \u001b[0mException\u001b[0m\u001b[0;34m:\u001b[0m\u001b[0;34m\u001b[0m\u001b[0;34m\u001b[0m\u001b[0m\n\u001b[1;32m   1221\u001b[0m                 \u001b[0mself\u001b[0m\u001b[0;34m.\u001b[0m\u001b[0mlog\u001b[0m\u001b[0;34m.\u001b[0m\u001b[0mwarning\u001b[0m\u001b[0;34m(\u001b[0m\u001b[0;34m\"Invalid Message:\"\u001b[0m\u001b[0;34m,\u001b[0m \u001b[0mexc_info\u001b[0m\u001b[0;34m=\u001b[0m\u001b[0;32mTrue\u001b[0m\u001b[0;34m)\u001b[0m\u001b[0;34m\u001b[0m\u001b[0;34m\u001b[0m\u001b[0m\n",
            "\u001b[0;31mKeyboardInterrupt\u001b[0m: Interrupted by user"
          ]
        }
      ]
    }
  ]
}