{
  "nbformat": 4,
  "nbformat_minor": 0,
  "metadata": {
    "colab": {
      "provenance": [],
      "authorship_tag": "ABX9TyNMFIxvnwHWOuzk/O3sDFbm",
      "include_colab_link": true
    },
    "kernelspec": {
      "name": "python3",
      "display_name": "Python 3"
    },
    "language_info": {
      "name": "python"
    }
  },
  "cells": [
    {
      "cell_type": "markdown",
      "metadata": {
        "id": "view-in-github",
        "colab_type": "text"
      },
      "source": [
        "<a href=\"https://colab.research.google.com/github/iitzduuu/Atividades-faculdade/blob/main/scaperoom.ipynb\" target=\"_parent\"><img src=\"https://colab.research.google.com/assets/colab-badge.svg\" alt=\"Open In Colab\"/></a>"
      ]
    },
    {
      "cell_type": "code",
      "execution_count": null,
      "metadata": {
        "colab": {
          "base_uri": "https://localhost:8080/"
        },
        "id": "bp1MuEefG23g",
        "outputId": "3f470bd7-0798-473f-ed08-1a53084cb0f2"
      },
      "outputs": [
        {
          "output_type": "stream",
          "name": "stdout",
          "text": [
            "Vocês são um grupo de programadores presos em um laboratório de informática. \n",
            "A única forma de escapar é resolvendo uma série de enigmas relacionados à linguagem Python. \n",
            "Boa sorte!  \n",
            "Primeira porta!\n",
            "Dica: São dois números iguais.  \n",
            "Digite o primeiro número: 5\n",
            "Digite o segundo número: 5\n",
            "Você passou pela primeira porta!  \n",
            "Segunda porta!  \n",
            "Dica: Qual a função usada para exibir mensagens no código?  \n",
            "Digite a função: print\n",
            "Você passou pela segunda porta!  \n",
            "Terceira porta!  \n",
            "Dica: É um número decimal muito usado na matematica.   \n",
            "Digite o número decimal: 3.14\n",
            "Você passou pela terceira porta!\n",
            "Parabéns, você escapou do laboratório!\n",
            "\n"
          ]
        }
      ],
      "source": [
        "print(\"Vocês são um grupo de programadores presos em um laboratório de informática. \")\n",
        "print(\"A única forma de escapar é resolvendo uma série de enigmas relacionados à linguagem Python. \")\n",
        "print(\"Boa sorte!  \")\n",
        "\n",
        "def porta_errada():\n",
        "    print(\"Resposta errada, porta fechada!  \")\n",
        "    print(\"Tente novamente!  \")\n",
        "\n",
        "print(\"Primeira porta!\")\n",
        "print(\"Dica: São dois números iguais.  \")\n",
        "\n",
        "while True:\n",
        "    x = int(input(\"Digite o primeiro número: \"))\n",
        "    y = int(input(\"Digite o segundo número: \"))\n",
        "    if x == y:\n",
        "        print(\"Você passou pela primeira porta!  \")\n",
        "        break\n",
        "    else:\n",
        "        porta_errada()\n",
        "\n",
        "print(\"Segunda porta!  \")\n",
        "print(\"Dica: Qual a função usada para exibir mensagens no código?  \")\n",
        "\n",
        "while True:\n",
        "    resposta = input(\"Digite a função: \")\n",
        "    if resposta == \"print\":\n",
        "        print(\"Você passou pela segunda porta!  \")\n",
        "        break\n",
        "    else:\n",
        "        porta_errada()\n",
        "\n",
        "print(\"Terceira porta!  \")\n",
        "print(\"Dica: É um número decimal muito usado na matematica.   \")\n",
        "\n",
        "while True:\n",
        "    resposta = input(\"Digite o número decimal: \")\n",
        "\n",
        "    if resposta == \"3.14\":\n",
        "        print(\"Você passou pela terceira porta!\")\n",
        "        print(\"Parabéns, você escapou do laboratório!\\n\")\n",
        "        break\n",
        "    else:\n",
        "        print(\"Numero errado!  \")\n",
        "        print(\"Tente novamente!  \")\n",
        "\n"
      ]
    }
  ]
}