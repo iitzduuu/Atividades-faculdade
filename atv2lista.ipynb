{
  "nbformat": 4,
  "nbformat_minor": 0,
  "metadata": {
    "colab": {
      "provenance": [],
      "authorship_tag": "ABX9TyPThxXYDmEf+aHkT0M8dS4q",
      "include_colab_link": true
    },
    "kernelspec": {
      "name": "python3",
      "display_name": "Python 3"
    },
    "language_info": {
      "name": "python"
    }
  },
  "cells": [
    {
      "cell_type": "markdown",
      "metadata": {
        "id": "view-in-github",
        "colab_type": "text"
      },
      "source": [
        "<a href=\"https://colab.research.google.com/github/iitzduuu/Atividades-faculdade/blob/main/atv2lista.ipynb\" target=\"_parent\"><img src=\"https://colab.research.google.com/assets/colab-badge.svg\" alt=\"Open In Colab\"/></a>"
      ]
    },
    {
      "cell_type": "code",
      "execution_count": 1,
      "metadata": {
        "colab": {
          "base_uri": "https://localhost:8080/"
        },
        "id": "GO6y1ge3uWWc",
        "outputId": "30a93c5e-ce07-490b-c1c8-cc3fb275be4a"
      },
      "outputs": [
        {
          "output_type": "stream",
          "name": "stdout",
          "text": [
            "Digite o número de inscrição e as 5 notas: 123 5 10 5 10 10\n",
            "123 8.0\n"
          ]
        }
      ],
      "source": [
        "#questão 1\n",
        "def calcular_media(inscricao, notas):\n",
        "\n",
        "    media = sum(notas) / len(notas)\n",
        "\n",
        "    print(f\"{inscricao} {media:.1f}\")\n",
        "\n",
        "entrada = input(\"digite o número de inscrição e as 5 notas: \")\n",
        "\n",
        "\n",
        "dados = entrada.split()\n",
        "inscricao = int(dados[0])\n",
        "notas = list(map(int, dados[1:]))\n",
        "\n",
        "calcular_media(inscricao, notas)\n"
      ]
    },
    {
      "cell_type": "code",
      "source": [
        "# questão2\n",
        "\n",
        "def calcular_soldados_comuns(n_titas):\n",
        "\n",
        "    titas_restantes = n_titas - 20\n",
        "    return titas_restantes // 5\n",
        "n_titas = int(input())\n",
        "\n",
        "soldados = calcular_soldados_comuns(n_titas)\n",
        "\n",
        "print(soldados)\n"
      ],
      "metadata": {
        "colab": {
          "base_uri": "https://localhost:8080/"
        },
        "id": "zNUWZmkdvI0U",
        "outputId": "42c7b828-a7ac-4311-d91d-7be4636e119d"
      },
      "execution_count": 4,
      "outputs": [
        {
          "output_type": "stream",
          "name": "stdout",
          "text": [
            "30\n",
            "soldados\n"
          ]
        }
      ]
    },
    {
      "cell_type": "code",
      "source": [
        "# questão 3\n",
        "massa, velocidade = map(int, input().split())\n",
        "energia = massa * (velocidade ** 2)\n",
        "print(energia)\n",
        "\n"
      ],
      "metadata": {
        "colab": {
          "base_uri": "https://localhost:8080/"
        },
        "id": "3PPxASk4wKGd",
        "outputId": "9fccece3-f6be-4cee-c9c2-0c3285b9a3f6"
      },
      "execution_count": 5,
      "outputs": [
        {
          "output_type": "stream",
          "name": "stdout",
          "text": [
            "80 100\n",
            "800000\n"
          ]
        }
      ]
    },
    {
      "cell_type": "code",
      "source": [
        "# questão 4\n",
        "\n",
        "T, X = map(int, input().split())\n",
        "ponto_termino = X % T\n",
        "print(ponto_termino)\n"
      ],
      "metadata": {
        "colab": {
          "base_uri": "https://localhost:8080/"
        },
        "id": "R6MiFhG5xeus",
        "outputId": "650b9d3d-81cd-4cfe-c195-28a3db7f4ac4"
      },
      "execution_count": 9,
      "outputs": [
        {
          "output_type": "stream",
          "name": "stdout",
          "text": [
            "200 20\n",
            "20\n"
          ]
        }
      ]
    },
    {
      "cell_type": "code",
      "source": [
        "# questão 5\n",
        "\n",
        "Q1, Q2, Q3 = map(int, input().split())\n",
        "\n",
        "E1, E2, E3 = map(int, input().split())\n",
        "\n",
        "restantes = (Q1 - E1 * 3) + (Q2 - E2 * 3) + (Q3 - E3 * 3)\n",
        "\n",
        "print(restantes)\n"
      ],
      "metadata": {
        "colab": {
          "base_uri": "https://localhost:8080/"
        },
        "id": "2vak83ujyw87",
        "outputId": "01461ef2-507b-4ffb-821c-0e735b1f46f3"
      },
      "execution_count": 10,
      "outputs": [
        {
          "output_type": "stream",
          "name": "stdout",
          "text": [
            "10 12 20\n",
            "0 1 1\n",
            "36\n"
          ]
        }
      ]
    },
    {
      "cell_type": "code",
      "source": [
        "# questão 6\n",
        "\n",
        "N, XP = map(int, input().split())\n",
        "XP_Yoda, XP_Luke, XP_Ahsoka = map(int, input().split())\n",
        "novo_XP_Yoda = XP_Yoda + (N * XP)\n",
        "novo_XP_Luke = XP_Luke + (N * XP)\n",
        "novo_XP_Ahsoka = XP_Ahsoka + (N * XP)\n",
        "print(f\"Yoda {novo_XP_Yoda}\")\n",
        "print(f\"Luke {novo_XP_Luke}\")\n",
        "print(f\"Ahsoka {novo_XP_Ahsoka}\")\n"
      ],
      "metadata": {
        "colab": {
          "base_uri": "https://localhost:8080/"
        },
        "id": "qEyz2gq0zcMR",
        "outputId": "04b14f5b-73a1-41ff-97ef-76c31b40ce6d"
      },
      "execution_count": 11,
      "outputs": [
        {
          "output_type": "stream",
          "name": "stdout",
          "text": [
            "3 50\n",
            "1500 800 1000\n",
            "Yoda 1650\n",
            "Luke 950\n",
            "Ahsoka 1150\n"
          ]
        }
      ]
    },
    {
      "cell_type": "code",
      "source": [
        "# questão 7\n",
        "\n",
        "N = int(input())\n",
        "horas = N // 3600\n",
        "restante = N % 3600\n",
        "minutos = restante // 60\n",
        "segundos = restante % 60\n",
        "print(f\"{horas} horas, {minutos} minutos e {segundos} segundos\")\n"
      ],
      "metadata": {
        "colab": {
          "base_uri": "https://localhost:8080/"
        },
        "id": "ZOYmE-7e015G",
        "outputId": "18952687-6095-4a31-9915-e15eb2c009dc"
      },
      "execution_count": 13,
      "outputs": [
        {
          "output_type": "stream",
          "name": "stdout",
          "text": [
            "4000\n",
            "1 horas, 6 minutos e 40 segundos\n"
          ]
        }
      ]
    }
  ]
}