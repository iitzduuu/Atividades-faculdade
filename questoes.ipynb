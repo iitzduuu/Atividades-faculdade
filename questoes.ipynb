{
  "nbformat": 4,
  "nbformat_minor": 0,
  "metadata": {
    "colab": {
      "provenance": [],
      "authorship_tag": "ABX9TyPEyZEQKgV9AbYaVyDI7ZrW",
      "include_colab_link": true
    },
    "kernelspec": {
      "name": "python3",
      "display_name": "Python 3"
    },
    "language_info": {
      "name": "python"
    }
  },
  "cells": [
    {
      "cell_type": "markdown",
      "metadata": {
        "id": "view-in-github",
        "colab_type": "text"
      },
      "source": [
        "<a href=\"https://colab.research.google.com/github/iitzduuu/Atividades-faculdade/blob/main/questoes.ipynb\" target=\"_parent\"><img src=\"https://colab.research.google.com/assets/colab-badge.svg\" alt=\"Open In Colab\"/></a>"
      ]
    },
    {
      "cell_type": "code",
      "execution_count": null,
      "metadata": {
        "colab": {
          "base_uri": "https://localhost:8080/"
        },
        "id": "7mL6xOuSgQxW",
        "outputId": "d8217fc2-9984-4ec7-b963-daa09d6d3d42"
      },
      "outputs": [
        {
          "output_type": "stream",
          "name": "stdout",
          "text": [
            "digite o numero do processo  41\n",
            "voce nao foi sorteado\n"
          ]
        }
      ],
      "source": [
        "# Este script em Python verifica se o número de um processo (P) é múltiplo de\n",
        "# 42 e imprime uma mensagem correspondente. Caso o número fornecido seja\n",
        "# múltiplo de 42, a mensagem \"você foi sorteado\" é exibida. Caso contrário,\n",
        "# a mensagem \"você não foi sorteado\" é apresentada.\n",
        "P = int(input('digite o numero do processo  '))\n",
        "mensagem_sorteado = 'voce foi sorteado'\n",
        "mensagem_nsorteado = 'voce nao foi sorteado'\n",
        "if P % 42 == 0:\n",
        "    print(mensagem_sorteado)\n",
        "else:\n",
        "    print(mensagem_nsorteado)"
      ]
    },
    {
      "cell_type": "code",
      "source": [
        "# Este script em Python verifica se o número fornecido pelo usuário é\n",
        "# múltiplo de 42 e imprime uma resposta de acordo com a verificação. Se o\n",
        "# número inserido for divisível por 42, o script imprime \"Sim\", caso\n",
        "# contrário, imprime \"Nao\".\n",
        "P = int(input())\n",
        "if P % 42 == 0:\n",
        "    print(\"Sim\")\n",
        "else:\n",
        "    print(\"Nao\")\n"
      ],
      "metadata": {
        "id": "0dyjtV-FxVcv"
      },
      "execution_count": null,
      "outputs": []
    },
    {
      "cell_type": "code",
      "source": [
        "N = int(input(\"Digite o número de peixes: \"))\n",
        "if 1 <= N <= 1000:\n",
        "    valor_peixe = int(input(\"Digite o valor de cada peixe em ouros: \"))\n",
        "    total_ouro = N * valor_peixe\n",
        "\n",
        "    if total_ouro >= 7500:\n",
        "        print(\"Vara de Iridio\")\n",
        "    elif total_ouro >= 1800:\n",
        "        print(\"Vara de Fibra de Vidro\")\n",
        "    elif total_ouro >= 500:\n",
        "        print(\"Vara de Bambu\")\n",
        "    else:\n",
        "        print(\"Paciencia Firmino!\")"
      ],
      "metadata": {
        "id": "v2hcCHw5xYyc"
      },
      "execution_count": null,
      "outputs": []
    },
    {
      "cell_type": "code",
      "source": [
        "#Este script em Python calcula a \"força total\" de um Pokémon com base em três atributos fornecidos pelo usuário: A, D, e P. Cada um desses atributos é uma lista de números inteiros representando características específicas do Pokémon. O código então calcula a força total somando os valores dessas listas. Dependendo da força total, o script classifica o Pokémon em uma das seguintes categorias de progresso em batalhas.\n",
        "A = list(map(int, input().split()))\n",
        "D = list(map(int, input().split()))\n",
        "P = list(map(int, input().split()))\n",
        "\n",
        "forca_total = sum(A) + sum(D) + sum(P)\n",
        "\n",
        "if forca_total > 110:\n",
        "    print(\"Hum, parece que houve um erro\")\n",
        "else:\n",
        "    porcentagem_forca = (forca_total * 100) / 110\n",
        "    if 0 <= porcentagem_forca <= 50:\n",
        "        print(\"Seu pokemon nao fara progresso em batalhas\")\n",
        "    elif 51 <= porcentagem_forca <= 66:\n",
        "        print(\"Seu pokemon esta acima da media\")\n",
        "    elif 67 <= porcentagem_forca <= 79:\n",
        "        print(\"Seu pokemon certamente me chamou atencao\")\n",
        "    elif 80 <= porcentagem_forca <= 100:\n",
        "        print(\"Seu pokemon e uma maravilha\")"
      ],
      "metadata": {
        "id": "bzQZ5fWHxcjf"
      },
      "execution_count": null,
      "outputs": []
    },
    {
      "cell_type": "code",
      "source": [
        "#Este script em Python verifica se há uma interseção entre dois retângulos (ou quadros) no plano cartesiano. Cada retângulo é definido por dois pontos: o ponto inferior esquerdo e o ponto superior direito. O código recebe as coordenadas desses dois retângulos e determina se eles se sobrepõem em qualquer parte da área.\n",
        "x0_t, y0_t, x1_t, y1_t = map(int, input().split())\n",
        "x0_l, y0_l, x1_l, y1_l = map(int, input().split())\n",
        "def ha_intersecao(x0_1, y0_1, x1_1, y1_1, x0_2, y0_2, x1_2, y1_2):\n",
        "    if x1_1 < x0_2 or x1_2 < x0_1:\n",
        "        return False\n",
        "    if y1_1 < y0_2 or y1_2 < y0_1:\n",
        "        return False\n",
        "    return True\n",
        "if ha_intersecao(x0_t, y0_t, x1_t, y1_t, x0_l, y0_l, x1_l, y1_l):\n",
        "    print(\"Existe interseção entre os quadros\")\n",
        "else:\n",
        "    print(\"Não existe interseção entre os quadros\")"
      ],
      "metadata": {
        "id": "vJuuFl3KxikH"
      },
      "execution_count": null,
      "outputs": []
    }
  ]
}