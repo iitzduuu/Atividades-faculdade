{
  "nbformat": 4,
  "nbformat_minor": 0,
  "metadata": {
    "colab": {
      "provenance": [],
      "authorship_tag": "ABX9TyOo4GUivHOrFRwODSjzpawU",
      "include_colab_link": true
    },
    "kernelspec": {
      "name": "python3",
      "display_name": "Python 3"
    },
    "language_info": {
      "name": "python"
    }
  },
  "cells": [
    {
      "cell_type": "markdown",
      "metadata": {
        "id": "view-in-github",
        "colab_type": "text"
      },
      "source": [
        "<a href=\"https://colab.research.google.com/github/iitzduuu/Atividades-faculdade/blob/main/atividade3ilp.ipynb\" target=\"_parent\"><img src=\"https://colab.research.google.com/assets/colab-badge.svg\" alt=\"Open In Colab\"/></a>"
      ]
    },
    {
      "cell_type": "code",
      "execution_count": null,
      "metadata": {
        "id": "XtzgEEXlpR6F"
      },
      "outputs": [],
      "source": [
        "# QUESTÃO 1\n",
        "P = int(input())\n",
        "if P % 42 == 0:\n",
        "    print(\"Sim\")\n",
        "else:\n",
        "    print(\"Nao\")\n"
      ]
    },
    {
      "cell_type": "code",
      "source": [
        "#QUESTÃO2\n",
        "A, M, C = map(int, input().split())\n",
        "espadas = min(A // 2, M // 3, C // 5)\n",
        "print(espadas)\n"
      ],
      "metadata": {
        "colab": {
          "base_uri": "https://localhost:8080/"
        },
        "id": "YPMxA_Utp0jq",
        "outputId": "190567ee-4227-428f-8844-e3306cb055ed"
      },
      "execution_count": null,
      "outputs": [
        {
          "output_type": "stream",
          "name": "stdout",
          "text": [
            "2 100 40\n",
            "1\n"
          ]
        }
      ]
    },
    {
      "cell_type": "code",
      "source": [
        "#questão3\n",
        "X1, Y1 = map(int, input().split())\n",
        "X2, Y2 = map(int, input().split())\n",
        "if X1 == X2 and Y1 == Y2:\n",
        "    print(\"Soltar pacote\")\n",
        "else:\n",
        "    print(\"Nao soltar pacote\")\n"
      ],
      "metadata": {
        "colab": {
          "base_uri": "https://localhost:8080/"
        },
        "id": "RB_ZPc-rqccE",
        "outputId": "695befb4-d787-44f4-85ef-ba4008340a04"
      },
      "execution_count": null,
      "outputs": [
        {
          "output_type": "stream",
          "name": "stdout",
          "text": [
            "5 20\n",
            "5 20\n",
            "Soltar pacote\n"
          ]
        }
      ]
    }
  ]
}